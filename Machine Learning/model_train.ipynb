{
  "nbformat": 4,
  "nbformat_minor": 0,
  "metadata": {
    "language_info": {
      "codemirror_mode": {
        "name": "ipython",
        "version": 3
      },
      "file_extension": ".py",
      "mimetype": "text/x-python",
      "name": "python",
      "nbconvert_exporter": "python",
      "pygments_lexer": "ipython3",
      "version": "3.8.5-final"
    },
    "orig_nbformat": 2,
    "kernelspec": {
      "name": "python3",
      "display_name": "Python 3",
      "language": "python"
    },
    "colab": {
      "name": "model_train.ipynb",
      "provenance": [],
      "collapsed_sections": []
    },
    "accelerator": "GPU"
  },
  "cells": [
    {
      "cell_type": "code",
      "metadata": {
        "id": "xO9rq2eBnFPg"
      },
      "source": [
        "# Import Stuff\n",
        "import tensorflow as tf\n",
        "from tensorflow import keras\n",
        "import numpy as np\n",
        "from tensorflow.keras import datasets, layers, models\n",
        "from sklearn.model_selection import train_test_split\n",
        "import matplotlib.pyplot as plt\n",
        "import cv2\n",
        "from imgextract import Extractor\n",
        "from tensorflow.keras.preprocessing.image import ImageDataGenerator \n",
        "from multiprocessing import Process\n",
        "from IPython.display import clear_output"
      ],
      "execution_count": 24,
      "outputs": []
    },
    {
      "cell_type": "code",
      "metadata": {
        "id": "LKyg8tLfnFP1"
      },
      "source": [
        "# All Parameters required for training are declared over here\n",
        "# Frequency of Image Capturing\n",
        "FRAME_SKIP = 2\n",
        "# Frame Size\n",
        "FRAME_SIZE = (150,150)"
      ],
      "execution_count": 28,
      "outputs": []
    },
    {
      "cell_type": "code",
      "metadata": {
        "colab": {
          "base_uri": "https://localhost:8080/"
        },
        "id": "VQaV_movXscq",
        "outputId": "636c42b2-b8b7-4311-eb2a-033d74e2e981"
      },
      "source": [
        "# Dataset\n",
        "!rm -r A-Dataset-for-Automatic-Violence-Detection-in-Videos/\n",
        "!git clone https://github.com/airtlab/A-Dataset-for-Automatic-Violence-Detection-in-Videos"
      ],
      "execution_count": 25,
      "outputs": [
        {
          "output_type": "stream",
          "text": [
            "Cloning into 'A-Dataset-for-Automatic-Violence-Detection-in-Videos'...\n",
            "remote: Enumerating objects: 3, done.\u001b[K\n",
            "remote: Counting objects: 100% (3/3), done.\u001b[K\n",
            "remote: Compressing objects: 100% (3/3), done.\u001b[K\n",
            "remote: Total 367 (delta 0), reused 2 (delta 0), pack-reused 364\u001b[K\n",
            "Receiving objects: 100% (367/367), 1.02 GiB | 21.39 MiB/s, done.\n",
            "Checking out files: 100% (355/355), done.\n"
          ],
          "name": "stdout"
        }
      ]
    },
    {
      "cell_type": "code",
      "metadata": {
        "id": "IB0foOQvY3UQ"
      },
      "source": [
        "!rm -r Data\n",
        "!mkdir Data\n",
        "!mkdir -p ./Data/Video/Violent\n",
        "!mkdir -p ./Data/Video/NonViolent\n",
        "!cp -a ./A-Dataset-for-Automatic-Violence-Detection-in-Videos/violence-detection-dataset/violent/cam1/. ./Data/Video/Violent/\n",
        "!cp -a ./A-Dataset-for-Automatic-Violence-Detection-in-Videos/violence-detection-dataset/non-violent/cam1/. ./Data/Video/NonViolent/\n",
        "clear_output()\n",
        "!mkdir -p ./Data/Training/V\n",
        "!mkdir -p ./Data/Training/NV"
      ],
      "execution_count": 26,
      "outputs": []
    },
    {
      "cell_type": "code",
      "metadata": {
        "id": "uc7wSf0SneYv"
      },
      "source": [
        "def thread_1():\n",
        "    ext = Extractor(FRAME_SIZE, FRAME_SKIP)\n",
        "    for i in range(60):\n",
        "        path = f\"./Data/Video/Violent/{i+1}.mp4\"\n",
        "        print(f\"Processing Violent Vid-{i}\")\n",
        "        ext.extract(path, 'V')\n",
        "    print(\"Violent Extracted\")\n",
        "\n",
        "def thread_2():\n",
        "    ext = Extractor(FRAME_SIZE, FRAME_SKIP)\n",
        "    for i in range(60):\n",
        "        path = f\"/content/Data/Video/NonViolent/{i+1}.mp4\"\n",
        "        print(f\"Processing NonViolent Vid-{i}\")\n",
        "        ext.extract(path, 'NV')\n",
        "    print(\"Non-Violent Extracted\")"
      ],
      "execution_count": 29,
      "outputs": []
    },
    {
      "cell_type": "code",
      "metadata": {
        "id": "8hJBNB8nnFP4",
        "colab": {
          "base_uri": "https://localhost:8080/"
        },
        "outputId": "e738608e-1985-4ab0-a130-fb60c1a331d8"
      },
      "source": [
        "# Violent Extraction\n",
        "t1 = Process(target=thread_1, args=())\n",
        "t2 = Process(target=thread_2, args=())\n",
        "\n",
        "t1.start() \n",
        "t2.start()\n",
        "# NonViolent Extraction\n",
        "\n",
        "t1.join()\n",
        "t2.join()\n",
        "print(\"Complete\")"
      ],
      "execution_count": 30,
      "outputs": [
        {
          "output_type": "stream",
          "text": [
            "Processing Violent_0\n",
            "Processing NonViolent_0\n",
            "Processing Violent_1\n",
            "Processing NonViolent_1\n",
            "Processing Violent_2\n",
            "Processing NonViolent_2\n",
            "Processing Violent_3\n",
            "Processing NonViolent_3\n",
            "Processing Violent_4\n",
            "Processing NonViolent_4\n",
            "Processing Violent_5\n",
            "Processing NonViolent_5\n",
            "Processing Violent_6\n",
            "Processing NonViolent_6\n",
            "Processing NonViolent_7\n",
            "Processing Violent_7\n",
            "Processing NonViolent_8\n",
            "Processing Violent_8\n",
            "Processing NonViolent_9\n",
            "Processing Violent_9\n",
            "Processing NonViolent_10\n",
            "Processing NonViolent_11\n",
            "Processing Violent_10\n",
            "Processing NonViolent_12\n",
            "Processing Violent_11\n",
            "Processing Violent_12\n",
            "Processing NonViolent_13\n",
            "Processing Violent_13\n",
            "Processing NonViolent_14\n",
            "Processing Violent_14\n",
            "Processing NonViolent_15\n",
            "Processing Violent_15\n",
            "Processing NonViolent_16\n",
            "Processing Violent_16\n",
            "Processing Violent_17\n",
            "Processing NonViolent_17\n",
            "Processing Violent_18\n",
            "Processing NonViolent_18\n",
            "Processing NonViolent_19\n",
            "Processing Violent_19\n",
            "Processing NonViolent_20\n",
            "Processing Violent_20\n",
            "Processing NonViolent_21\n",
            "Processing Violent_21\n",
            "Processing NonViolent_22\n",
            "Processing Violent_22\n",
            "Processing NonViolent_23\n",
            "Processing Violent_23\n",
            "Processing NonViolent_24\n",
            "Processing Violent_24\n",
            "Processing NonViolent_25\n",
            "Processing Violent_25\n",
            "Processing NonViolent_26\n",
            "Processing Violent_26\n",
            "Processing NonViolent_27\n",
            "Processing Violent_27\n",
            "Processing NonViolent_28\n",
            "Processing Violent_28\n",
            "Processing NonViolent_29\n",
            "Processing Violent_29\n",
            "Processing Violent_30\n",
            "Processing NonViolent_30\n",
            "Processing Violent_31\n",
            "Processing NonViolent_31\n",
            "Processing Violent_32\n",
            "Processing NonViolent_32\n",
            "Processing Violent_33\n",
            "Processing NonViolent_33\n",
            "Processing Violent_34\n",
            "Processing NonViolent_34\n",
            "Processing Violent_35\n",
            "Processing NonViolent_35\n",
            "Processing NonViolent_36\n",
            "Processing Violent_36\n",
            "Processing NonViolent_37\n",
            "Processing NonViolent_38\n",
            "Processing Violent_37\n",
            "Processing NonViolent_39\n",
            "Processing NonViolent_40\n",
            "Processing Violent_38\n",
            "Processing Violent_39\n",
            "Processing NonViolent_41\n",
            "Processing Violent_40\n",
            "Processing NonViolent_42\n",
            "Processing NonViolent_43\n",
            "Processing Violent_41\n",
            "Processing NonViolent_44\n",
            "Processing NonViolent_45\n",
            "Processing Violent_42\n",
            "Processing NonViolent_46\n",
            "Processing Violent_43\n",
            "Processing NonViolent_47\n",
            "Processing NonViolent_48\n",
            "Processing Violent_44\n",
            "Processing NonViolent_49\n",
            "Processing Violent_45\n",
            "Processing Violent_46\n",
            "Processing NonViolent_50\n",
            "Processing NonViolent_51\n",
            "Processing Violent_47\n",
            "Processing NonViolent_52\n",
            "Processing Violent_48\n",
            "Processing NonViolent_53\n",
            "Processing Violent_49\n",
            "Processing NonViolent_54\n",
            "Processing NonViolent_55\n",
            "Processing Violent_50\n",
            "Processing NonViolent_56\n",
            "Processing Violent_51\n",
            "Processing Violent_52\n",
            "Processing NonViolent_57\n",
            "Processing NonViolent_58\n",
            "Processing Violent_53\n",
            "Processing NonViolent_59\n",
            "Processing Violent_54\n",
            "Non-Violent Extracted\n",
            "Processing Violent_55\n",
            "Processing Violent_56\n",
            "Processing Violent_57\n",
            "Processing Violent_58\n",
            "Processing Violent_59\n",
            "Violent Extracted\n",
            "Complete\n"
          ],
          "name": "stdout"
        }
      ]
    },
    {
      "cell_type": "code",
      "metadata": {
        "id": "YjSO8xyLlBM2"
      },
      "source": [
        "base_dir='./Data'\r\n",
        "train_dir=os.path.join(base_dir,'Training')\r\n",
        "train_violent_dir =os.path.join(train_dir, 'V' )\r\n",
        "train_nonviolent_dir=os.path.join(train_dir,'NV')\r\n"
      ],
      "execution_count": 36,
      "outputs": []
    },
    {
      "cell_type": "code",
      "metadata": {
        "id": "UzDdYValroVM"
      },
      "source": [
        "train_datagen= ImageDataGenerator(rescale=1./255, rotation_range=40,width_shift_range=0.2, height_shift_range=0.2, shear_range=0.2,horizontal_flip=True, fill_mode='nearest')"
      ],
      "execution_count": 38,
      "outputs": []
    },
    {
      "cell_type": "code",
      "metadata": {
        "colab": {
          "base_uri": "https://localhost:8080/"
        },
        "id": "7RHBfUhZsRMn",
        "outputId": "80b9b695-50af-45e9-9648-3ae6d9840b0f"
      },
      "source": [
        "\n",
        "train_generator = train_datagen.flow_from_directory(train_dir,color_mode=\"rgb\", target_size = FRAME_SIZE,batch_size=20,classes=['NV','V'], class_mode='binary', shuffle=True)"
      ],
      "execution_count": 39,
      "outputs": [
        {
          "output_type": "stream",
          "text": [
            "Found 10224 images belonging to 2 classes.\n"
          ],
          "name": "stdout"
        }
      ]
    },
    {
      "cell_type": "code",
      "metadata": {
        "id": "xk8zYR_pt-6w"
      },
      "source": [
        "model= tf.keras.models.Sequential([\r\n",
        "       tf.keras.layers.Conv2D(32,(3,3),activation='relu',input_shape=(150,150,3)),\r\n",
        "       tf.keras.layers.MaxPooling2D(2,2),\r\n",
        "       tf.keras.layers.Conv2D(64,(3,3),activation='relu'),\r\n",
        "       tf.keras.layers.MaxPooling2D(2,2),\r\n",
        "       tf.keras.layers.Conv2D(128,(3,3),activation='relu'),\r\n",
        "       tf.keras.layers.MaxPooling2D(2,2),\r\n",
        "       tf.keras.layers.Conv2D(128,(3,3),activation='relu'),\r\n",
        "       tf.keras.layers.MaxPooling2D(2,2),\r\n",
        "       tf.keras.layers.Dropout(0.5),\r\n",
        "       tf.keras.layers.Flatten(),\r\n",
        "       tf.keras.layers.Dense(512, activation='relu'),\r\n",
        "       tf.keras.layers.Dense(1,activation ='sigmoid')\r\n",
        "\r\n",
        "])"
      ],
      "execution_count": 40,
      "outputs": []
    },
    {
      "cell_type": "code",
      "metadata": {
        "id": "Pve_q6THujOz"
      },
      "source": [
        "model.compile(loss='binary_crossentropy',optimizer='adam',metrics=['accuracy'])"
      ],
      "execution_count": 41,
      "outputs": []
    },
    {
      "cell_type": "code",
      "metadata": {
        "colab": {
          "base_uri": "https://localhost:8080/"
        },
        "id": "idaPR2xmuuLs",
        "outputId": "0acbb647-87f1-417d-ee70-09741108c6ae"
      },
      "source": [
        "model1=model.fit(train_generator,steps_per_epoch=50, epochs=30)"
      ],
      "execution_count": 45,
      "outputs": [
        {
          "output_type": "stream",
          "text": [
            "Epoch 1/30\n",
            "50/50 [==============================] - 6s 111ms/step - loss: 0.3255 - accuracy: 0.8550\n",
            "Epoch 2/30\n",
            "50/50 [==============================] - 6s 112ms/step - loss: 0.3168 - accuracy: 0.8630\n",
            "Epoch 3/30\n",
            "50/50 [==============================] - 6s 114ms/step - loss: 0.3077 - accuracy: 0.8730\n",
            "Epoch 4/30\n",
            "50/50 [==============================] - 7s 138ms/step - loss: 0.2901 - accuracy: 0.8760\n",
            "Epoch 5/30\n",
            "50/50 [==============================] - 6s 113ms/step - loss: 0.3141 - accuracy: 0.8710\n",
            "Epoch 6/30\n",
            "50/50 [==============================] - 6s 113ms/step - loss: 0.3354 - accuracy: 0.8620\n",
            "Epoch 7/30\n",
            "50/50 [==============================] - 6s 114ms/step - loss: 0.2790 - accuracy: 0.8910\n",
            "Epoch 8/30\n",
            "50/50 [==============================] - 6s 116ms/step - loss: 0.2883 - accuracy: 0.8820\n",
            "Epoch 9/30\n",
            "50/50 [==============================] - 6s 113ms/step - loss: 0.2591 - accuracy: 0.8930\n",
            "Epoch 10/30\n",
            "50/50 [==============================] - 6s 113ms/step - loss: 0.2977 - accuracy: 0.8790\n",
            "Epoch 11/30\n",
            "50/50 [==============================] - 6s 113ms/step - loss: 0.3022 - accuracy: 0.8640\n",
            "Epoch 12/30\n",
            "50/50 [==============================] - 6s 115ms/step - loss: 0.2951 - accuracy: 0.8630\n",
            "Epoch 13/30\n",
            "50/50 [==============================] - 6s 116ms/step - loss: 0.2883 - accuracy: 0.8650\n",
            "Epoch 14/30\n",
            "50/50 [==============================] - 6s 112ms/step - loss: 0.2836 - accuracy: 0.8820\n",
            "Epoch 15/30\n",
            "50/50 [==============================] - 6s 115ms/step - loss: 0.2946 - accuracy: 0.8720\n",
            "Epoch 16/30\n",
            "50/50 [==============================] - 6s 120ms/step - loss: 0.2854 - accuracy: 0.8720\n",
            "Epoch 17/30\n",
            "50/50 [==============================] - 6s 120ms/step - loss: 0.2497 - accuracy: 0.8970\n",
            "Epoch 18/30\n",
            "50/50 [==============================] - 6s 117ms/step - loss: 0.2917 - accuracy: 0.8710\n",
            "Epoch 19/30\n",
            "50/50 [==============================] - 6s 116ms/step - loss: 0.2808 - accuracy: 0.8850\n",
            "Epoch 20/30\n",
            "50/50 [==============================] - 6s 119ms/step - loss: 0.2595 - accuracy: 0.8990\n",
            "Epoch 21/30\n",
            "50/50 [==============================] - 6s 113ms/step - loss: 0.2479 - accuracy: 0.9000\n",
            "Epoch 22/30\n",
            "50/50 [==============================] - 6s 111ms/step - loss: 0.2753 - accuracy: 0.8940\n",
            "Epoch 23/30\n",
            "50/50 [==============================] - 5s 109ms/step - loss: 0.2848 - accuracy: 0.8790\n",
            "Epoch 24/30\n",
            "50/50 [==============================] - 6s 111ms/step - loss: 0.2728 - accuracy: 0.8750\n",
            "Epoch 25/30\n",
            "50/50 [==============================] - 5s 109ms/step - loss: 0.2618 - accuracy: 0.8930\n",
            "Epoch 26/30\n",
            "50/50 [==============================] - 5s 110ms/step - loss: 0.2782 - accuracy: 0.8870\n",
            "Epoch 27/30\n",
            "50/50 [==============================] - 5s 108ms/step - loss: 0.2622 - accuracy: 0.8840\n",
            "Epoch 28/30\n",
            "50/50 [==============================] - 5s 107ms/step - loss: 0.2749 - accuracy: 0.8810\n",
            "Epoch 29/30\n",
            "50/50 [==============================] - 5s 109ms/step - loss: 0.2485 - accuracy: 0.8910\n",
            "Epoch 30/30\n",
            "50/50 [==============================] - 5s 107ms/step - loss: 0.2338 - accuracy: 0.9070\n"
          ],
          "name": "stdout"
        }
      ]
    },
    {
      "cell_type": "code",
      "metadata": {
        "colab": {
          "base_uri": "https://localhost:8080/"
        },
        "id": "2Q446tFFu9pD",
        "outputId": "4b830cc0-723f-43c5-f345-d23681078858"
      },
      "source": [
        "import time\r\n",
        "t = time.time()\r\n",
        "export_path_keras = \"./{}.h5\".format(int(t))\r\n",
        "print(export_path_keras)\r\n",
        "\r\n",
        "model.save(export_path_keras)"
      ],
      "execution_count": 46,
      "outputs": [
        {
          "output_type": "stream",
          "text": [
            "./1611850389.h5\n"
          ],
          "name": "stdout"
        }
      ]
    },
    {
      "cell_type": "code",
      "metadata": {
        "id": "h6a0V1SuxPxu"
      },
      "source": [],
      "execution_count": null,
      "outputs": []
    }
  ]
}